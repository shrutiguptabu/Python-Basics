{
 "cells": [
  {
   "cell_type": "markdown",
   "metadata": {},
   "source": [
    "### find max number"
   ]
  },
  {
   "cell_type": "code",
   "execution_count": 2,
   "metadata": {},
   "outputs": [
    {
     "name": "stdout",
     "output_type": "stream",
     "text": [
      "647\n"
     ]
    }
   ],
   "source": [
    "numbers=[245,467,234,647,134]\n",
    "max=numbers[0]\n",
    "for number in numbers:\n",
    "    if number>max:\n",
    "        max=number\n",
    "print(max)"
   ]
  },
  {
   "cell_type": "markdown",
   "metadata": {},
   "source": [
    "### 2 D list"
   ]
  },
  {
   "cell_type": "code",
   "execution_count": 13,
   "metadata": {},
   "outputs": [
    {
     "name": "stdout",
     "output_type": "stream",
     "text": [
      "3rd row 3rd item is  6\n",
      "I chnged the 1st row 3rd value from 3 to 10 like this [[1, 2, 10], [3, 4, 5], [4, 5, 6]]\n",
      "1\n",
      "2\n",
      "10\n",
      "3\n",
      "4\n",
      "5\n",
      "4\n",
      "5\n",
      "6\n"
     ]
    }
   ],
   "source": [
    "matrix = [\n",
    "    [1,2,3],\n",
    "    [3,4,5],\n",
    "    [4,5,6]\n",
    "    \n",
    "]\n",
    "\n",
    "#to print 6 from list, we need 2 dimentional, first is the index number of outer list, then index number from inner list\n",
    "\n",
    "print(f\"3rd row 3rd item is  {matrix[2][2]}\");\n",
    "\n",
    "# to change a number from list\n",
    "\n",
    "matrix[0][2]=10\n",
    "print(f\"I chnged the 1st row 3rd value from 3 to 10 like this {matrix}\")\n",
    "\n",
    "#to print the list of items from 2 d array\n",
    "\n",
    "for list in matrix:\n",
    "    for item in list:\n",
    "        print(item)\n"
   ]
  },
  {
   "cell_type": "markdown",
   "metadata": {},
   "source": [
    "### Operations on lists"
   ]
  },
  {
   "cell_type": "code",
   "execution_count": 29,
   "metadata": {},
   "outputs": [
    {
     "name": "stdout",
     "output_type": "stream",
     "text": [
      "[0, 2, 4, 7, 45, 45, 10]\n",
      "[50, 0, 2, 4, 7, 45, 45, 10]\n",
      "[50, 0, 2, 7, 45, 45, 10]\n",
      "[50, 0, 2, 7, 45, 45]\n",
      "1\n",
      "True\n",
      "0\n",
      "[0, 2, 7, 45, 45, 50]\n",
      "[50, 45, 45, 7, 2, 0]\n"
     ]
    }
   ],
   "source": [
    "number=[0,2,4,7,45,45]\n",
    "\n",
    "#if we want to add a number to this list\n",
    "\n",
    "number.append(10);\n",
    "print(number)\n",
    "\n",
    "#if we want to add a number at a specific position\n",
    "\n",
    "number.insert(0,50);\n",
    "print(number);\n",
    "\n",
    "# if you want to remove a item\n",
    "\n",
    "number.remove(4);\n",
    "print(number)\n",
    "\n",
    "#if you want to clear the list\n",
    "\n",
    "# number.clear();\n",
    "# print(number)\n",
    "\n",
    "# if you want to remove last item from list\n",
    "\n",
    "number.pop();\n",
    "print(number)\n",
    "\n",
    "#if we want to know the index of a specific number\n",
    "\n",
    "print(number.index(0));\n",
    "\n",
    "# to check whether a number is on the list or not. This will return boolean \n",
    "\n",
    "print(45 in number)\n",
    "\n",
    "# to count how many times the number is repeating in the list\n",
    "\n",
    "print(number.count(100))\n",
    "\n",
    "# to sort the list\n",
    "\n",
    "number.sort();\n",
    "print(number)\n",
    "\n",
    "# to sort the list in decreasing/reverse order\n",
    "\n",
    "number.reverse();\n",
    "print(number);"
   ]
  },
  {
   "cell_type": "markdown",
   "metadata": {},
   "source": [
    "## To remove duplicate on a list"
   ]
  },
  {
   "cell_type": "code",
   "execution_count": 34,
   "metadata": {},
   "outputs": [
    {
     "name": "stdout",
     "output_type": "stream",
     "text": [
      "[1, 5, 7, 4, 3]\n"
     ]
    }
   ],
   "source": [
    "numbers=[1,1,1,3,5,7,4,3]\n",
    "\n",
    "\n",
    "for item in numbers:\n",
    "    if numbers.count(item)>1:\n",
    "        numbers.remove(item);\n",
    "print(numbers)        \n"
   ]
  },
  {
   "cell_type": "markdown",
   "metadata": {},
   "source": [
    "## Tuple\n",
    "### it is same as list but we cannot change tuples"
   ]
  },
  {
   "cell_type": "code",
   "execution_count": 35,
   "metadata": {},
   "outputs": [
    {
     "name": "stdout",
     "output_type": "stream",
     "text": [
      "1\n"
     ]
    }
   ],
   "source": [
    "number=(1,2,3,4);\n",
    "print(number[0]);"
   ]
  },
  {
   "cell_type": "code",
   "execution_count": 36,
   "metadata": {},
   "outputs": [
    {
     "name": "stdout",
     "output_type": "stream",
     "text": [
      "2\n"
     ]
    }
   ],
   "source": [
    "# unpacking\n",
    "# is a feature in which we can asign the list, tuple to varialbe without defining them\n",
    "\n",
    "coordinate = [1,2,3]\n",
    "x,y,z=coordinate\n",
    "print(y)\n"
   ]
  },
  {
   "cell_type": "markdown",
   "metadata": {},
   "source": [
    "## Dictionaries"
   ]
  },
  {
   "cell_type": "code",
   "execution_count": 43,
   "metadata": {},
   "outputs": [
    {
     "name": "stdout",
     "output_type": "stream",
     "text": [
      "Shruti\n",
      "None\n",
      "Pittsburgh\n"
     ]
    }
   ],
   "source": [
    "# we use dictionary where we want to store information as key and value pairs\n",
    "\n",
    "customer = {\n",
    "    \"name\":\"Shruti\",\n",
    "    \"age\":30,\n",
    "    \"is_married\":True\n",
    "}\n",
    "\n",
    "print(customer[\"name\"])\n",
    "\n",
    "# get function returns the boolean value\n",
    "print(customer.get(\"Name\")) \n",
    "\n",
    "# add new key value pair to dictioinary\n",
    "\n",
    "customer[\"city\"]=\"Pittsburgh\";\n",
    "print(customer[\"city\"])"
   ]
  },
  {
   "cell_type": "markdown",
   "metadata": {},
   "source": [
    "### Exercise : change the number to words"
   ]
  },
  {
   "cell_type": "code",
   "execution_count": 55,
   "metadata": {},
   "outputs": [
    {
     "name": "stdout",
     "output_type": "stream",
     "text": [
      "phone:12234\n"
     ]
    }
   ],
   "source": []
  },
  {
   "cell_type": "code",
   "execution_count": 62,
   "metadata": {},
   "outputs": [
    {
     "name": "stdout",
     "output_type": "stream",
     "text": [
      "phone:98273\n",
      "! \n",
      "! \n",
      "two \n",
      "! \n",
      "three \n"
     ]
    }
   ],
   "source": [
    "phone = input(\"phone:\")\n",
    "numtowords = {\n",
    "    \"1\":\"one\",\n",
    "    \"2\":\"two\",\n",
    "    \"3\":\"three\",\n",
    "    \"4\":\"four\",\n",
    "}\n",
    "\n",
    "for keys in phone:\n",
    "    print(numtowords.get(keys,\"!\"),\"\")\n"
   ]
  },
  {
   "cell_type": "markdown",
   "metadata": {},
   "source": [
    "## Functions"
   ]
  },
  {
   "cell_type": "code",
   "execution_count": 63,
   "metadata": {},
   "outputs": [
    {
     "name": "stdout",
     "output_type": "stream",
     "text": [
      "hey there\n"
     ]
    }
   ],
   "source": [
    "def greet():\n",
    "    print(\"hey there\");\n",
    "\n",
    "greet();"
   ]
  },
  {
   "cell_type": "code",
   "execution_count": 4,
   "metadata": {},
   "outputs": [
    {
     "name": "stdout",
     "output_type": "stream",
     "text": [
      "Shruti Gupta\n",
      "Ravindra Agrawal\n"
     ]
    }
   ],
   "source": [
    "# positional argument and keywork argument\n",
    "\n",
    "def greet(first_name,last_name):\n",
    "    print(first_name, last_name)\n",
    "\n",
    "    \n",
    "greet(\"Shruti\",\"Gupta\") # positional argument\n",
    "\n",
    "greet(\"Ravindra\",last_name=\"Agrawal\") #Keyword argument\n",
    "\n",
    "# try to give keyword argument after the positional argument"
   ]
  },
  {
   "cell_type": "code",
   "execution_count": 9,
   "metadata": {},
   "outputs": [
    {
     "data": {
      "text/plain": [
       "' I am sad 😒 '"
      ]
     },
     "execution_count": 9,
     "metadata": {},
     "output_type": "execute_result"
    }
   ],
   "source": [
    "# By default all functions return null value\n",
    "\n",
    "def smiley_message(message):\n",
    "    words=message.split(\" \");\n",
    "    emojis={\n",
    "        \":)\": \"😊\",\n",
    "        \":(\": \"😒\"\n",
    "    }\n",
    "    output = \" \"\n",
    "    for word in words:\n",
    "        output+=emojis.get(word,word)+\" \"\n",
    "    return(output)\n",
    "\n",
    "smiley_message(\"I am sad :(\")"
   ]
  },
  {
   "cell_type": "code",
   "execution_count": 10,
   "metadata": {},
   "outputs": [],
   "source": [
    "#  Exceptions\n",
    "# try:\n",
    "#     always try to put the exception code so that the code give 0 \n",
    "# Exception:\n",
    "    \n"
   ]
  },
  {
   "cell_type": "markdown",
   "metadata": {},
   "source": [
    "## Class"
   ]
  },
  {
   "cell_type": "code",
   "execution_count": 52,
   "metadata": {},
   "outputs": [
    {
     "name": "stdout",
     "output_type": "stream",
     "text": [
      "John\n",
      "Smith\n"
     ]
    }
   ],
   "source": [
    "#name the class with a capital letter\n",
    "#selfreference to the current object\n",
    "class Person:\n",
    "    def __init__(self,first_name,last_name):\n",
    "        self.name=first_name;\n",
    "        self.last=last_name\n",
    "     \n",
    "    \n",
    "    def talk(self):\n",
    "        print(\"talk\")\n",
    "        \n",
    "\n",
    "Person(\"John\",\"Smith\")\n",
    "\n",
    "print(first_name.name);\n",
    "print(last_name.last)\n",
    "# print(f({first_name.name} , {last_name.name1})\n",
    "\n",
    "\n",
    "# each object is a different of a person class\n",
    "\n",
    "\n",
    "\n"
   ]
  },
  {
   "cell_type": "markdown",
   "metadata": {},
   "source": [
    "## Inheritence\n",
    "### inheritance is a mechanism for reusing the code"
   ]
  },
  {
   "cell_type": "code",
   "execution_count": 54,
   "metadata": {},
   "outputs": [
    {
     "name": "stdout",
     "output_type": "stream",
     "text": [
      "Happy running\n"
     ]
    }
   ],
   "source": [
    "class Mammal:\n",
    "    def run(self):\n",
    "        print(\"Happy running\");\n",
    "\n",
    "class Dog(Mammal):\n",
    "    pass\n",
    "\n",
    "dog1=Dog()\n",
    "dog1.run()"
   ]
  },
  {
   "cell_type": "markdown",
   "metadata": {},
   "source": [
    "## Modules"
   ]
  },
  {
   "cell_type": "code",
   "execution_count": 55,
   "metadata": {},
   "outputs": [],
   "source": [
    "#ether import the whole module\n",
    "import pandas\n",
    "\n",
    "# import the specif name of the function from module you want to import\n",
    "from pandas import array "
   ]
  },
  {
   "cell_type": "code",
   "execution_count": 79,
   "metadata": {},
   "outputs": [],
   "source": [
    "# example of importing the whole module\n",
    "\n",
    "# import pandas\n",
    "# pandas.array() # we need to define the module before calling a class\n",
    "\n",
    "# example of importing a specific function from a module\n",
    "\n",
    "# from pandas import array\n",
    "# print(array) # we can use array directly without defining the module\n",
    "    "
   ]
  },
  {
   "cell_type": "code",
   "execution_count": 80,
   "metadata": {},
   "outputs": [],
   "source": [
    " ##### This is the module for import      \n",
    "\n",
    "    \n",
    "    \n",
    "#     def find_max(numbers):\n",
    "#         max=numbers[0]\n",
    "#         for item in numbers:\n",
    "#             if item>max:\n",
    "#                 max=item\n",
    "#         return max        \n",
    "        "
   ]
  },
  {
   "cell_type": "code",
   "execution_count": 84,
   "metadata": {},
   "outputs": [
    {
     "name": "stdout",
     "output_type": "stream",
     "text": [
      "7\n"
     ]
    }
   ],
   "source": [
    "##### This is the function for caling the module\n",
    "\n",
    "\n",
    "import utils\n",
    "number=[2,5,1,6,3,7];\n",
    "max= find_max(number)\n",
    "print(max);\n"
   ]
  },
  {
   "cell_type": "markdown",
   "metadata": {},
   "source": [
    "## Packages\n",
    "\n",
    "##### packeage is like a shopping mall where we can find all categories of men, women clothing. Under men and women clothing there are different category of clothes, that are called modules\n",
    "### package -> module->function\n",
    "### packages has a special file named __init__.py"
   ]
  },
  {
   "cell_type": "code",
   "execution_count": 85,
   "metadata": {},
   "outputs": [
    {
     "name": "stdout",
     "output_type": "stream",
     "text": [
      "0.7406276598977429\n",
      "0.7318290492872099\n",
      "0.06818968471295406\n"
     ]
    }
   ],
   "source": [
    "# how to use build-in module to generate random number using random module\n",
    "\n",
    "import random\n",
    "\n",
    "for i in range(3):\n",
    "    print(random.random())"
   ]
  },
  {
   "cell_type": "code",
   "execution_count": 95,
   "metadata": {},
   "outputs": [
    {
     "name": "stdout",
     "output_type": "stream",
     "text": [
      "(1 , 3)\n"
     ]
    }
   ],
   "source": [
    "value1=random.randrange(1,6)\n",
    "value2=random.randrange(1,6)\n",
    "print(f\"({value1} , {value2})\")\n",
    "    "
   ]
  },
  {
   "cell_type": "markdown",
   "metadata": {},
   "source": [
    "## Directories"
   ]
  },
  {
   "cell_type": "code",
   "execution_count": 100,
   "metadata": {},
   "outputs": [
    {
     "name": "stdout",
     "output_type": "stream",
     "text": [
      ".ipynb_checkpoints\n",
      "Analtyics project\n",
      "Housing\n",
      "PFDA Chapter 2(1).ipynb\n",
      "PFDA Chapter 3.ipynb\n",
      "PFDA Chapter 4.ipynb\n",
      "PFDA Chapter 5.ipynb\n",
      "PFDA Chapter 6.ipynb\n",
      "PFDA Chapter 7.ipynb\n",
      "Practice Pyton.ipynb\n",
      "utils.ipynb\n",
      "utils.py\n",
      "__pycache__\n"
     ]
    }
   ],
   "source": [
    "from pathlib import Path\n",
    "path=Path()\n",
    "for file in path.glob('*'):\n",
    "    print(file)"
   ]
  },
  {
   "cell_type": "code",
   "execution_count": null,
   "metadata": {},
   "outputs": [],
   "source": []
  }
 ],
 "metadata": {
  "kernelspec": {
   "display_name": "Python 3",
   "language": "python",
   "name": "python3"
  },
  "language_info": {
   "codemirror_mode": {
    "name": "ipython",
    "version": 3
   },
   "file_extension": ".py",
   "mimetype": "text/x-python",
   "name": "python",
   "nbconvert_exporter": "python",
   "pygments_lexer": "ipython3",
   "version": "3.7.3"
  }
 },
 "nbformat": 4,
 "nbformat_minor": 2
}
